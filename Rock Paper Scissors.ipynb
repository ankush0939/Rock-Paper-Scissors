{
 "cells": [
  {
   "cell_type": "code",
   "execution_count": null,
   "metadata": {},
   "outputs": [],
   "source": [
    "import random\n",
    "def getComputerChoice( randomNumber ):\n",
    "    if randomNumber==1:\n",
    "        computerChoice=\"rock\"\n",
    "    elif randomNumber==2:\n",
    "        computerChoice=\"paper\"\n",
    "    elif randomNumber==3:\n",
    "        computerChoice=\"scissors\"\n",
    "    return computerChoice\n",
    "def getUserChoice():\n",
    "    return input(\"please enter your choice: \")\n",
    "def determineWinner( computerChoice,userChoice ):\n",
    "    winner=\"no winner\"\n",
    "    message=\"\"  \n",
    "    if computerChoice==\"rock\" and userChoice==\"scissors\":\n",
    "        winner=\"Computer won. But don't give up yet.\"\n",
    "        message=\"It just trashed your scissors.\"\n",
    "    elif computerChoice==\"scissors\" and userChoice==\"rock\":\n",
    "        winner=\"You won... nice work\"\n",
    "        message=\"your stone crushed the computer\"\n",
    "    elif computerChoice==\"scissors\" and userChoice==\"paper\":\n",
    "        winner=\"Computer won\"\n",
    "        message=\"It just cut you out\"\n",
    "    elif computerChoice==\"paper\" and userChoice==\"scissors\":\n",
    "        winner=\"You won\"\n",
    "        message=\"scissors cut paper like knife througn butter\"  \n",
    "    elif computerChoice==\"paper\" and userChoice==\"rock\":\n",
    "        winner=\"Computer won\"\n",
    "        message=\"Sorry but computer is definitely formidable.\"\n",
    "    elif computerChoice==\"rock\" and userChoice==\"paper\":\n",
    "        winner=\"You won mate\"\n",
    "        message=\"paper wraps up stone with ease.\"\n",
    "    elif computerChoice == userChoice:\n",
    "        winner=\"None won\"\n",
    "        message=\"It's a draw homeboy\"\n",
    "    return winner, message\n",
    "def startAgain():\n",
    "    randomNumber=random.randint(1,3)\n",
    "    computerChoice=getComputerChoice( randomNumber )\n",
    "    userChoice=getUserChoice()\n",
    "    print( \"The Computer chose\", computerChoice )\n",
    "    winner, message=determineWinner( computerChoice, userChoice )\n",
    "    if winner != \"no winner\":\n",
    "        print( winner, \"(\", message, \")\" )\n",
    "    return winner\n",
    "winner=\"no winner\"\n",
    "while winner==\"no winner\":\n",
    "    winner=startAgain()"
   ]
  }
 ],
 "metadata": {
  "kernelspec": {
   "display_name": "Python 3",
   "language": "python",
   "name": "python3"
  },
  "language_info": {
   "codemirror_mode": {
    "name": "ipython",
    "version": 3
   },
   "file_extension": ".py",
   "mimetype": "text/x-python",
   "name": "python",
   "nbconvert_exporter": "python",
   "pygments_lexer": "ipython3",
   "version": "3.7.4"
  }
 },
 "nbformat": 4,
 "nbformat_minor": 2
}
